{
  "nbformat": 4,
  "nbformat_minor": 0,
  "metadata": {
    "colab": {
      "name": "New Years Resolutions candy.ipynb",
      "provenance": [],
      "authorship_tag": "ABX9TyOJFqiFXni9B9RO11qW3YHJ",
      "include_colab_link": true
    },
    "kernelspec": {
      "name": "python3",
      "display_name": "Python 3"
    },
    "language_info": {
      "name": "python"
    }
  },
  "cells": [
    {
      "cell_type": "markdown",
      "metadata": {
        "id": "view-in-github",
        "colab_type": "text"
      },
      "source": [
        "<a href=\"https://colab.research.google.com/github/Diachrony/Resolution-wagers/blob/main/New_Years_Resolutions_candy.ipynb\" target=\"_parent\"><img src=\"https://colab.research.google.com/assets/colab-badge.svg\" alt=\"Open In Colab\"/></a>"
      ]
    },
    {
      "cell_type": "markdown",
      "source": [
        "Friendly wagers on the success \n",
        "of your friends' New Years resolutions!"
      ],
      "metadata": {
        "id": "iVVz06IMFUEb"
      }
    },
    {
      "cell_type": "markdown",
      "source": [
        "(push the 'run cell' button below to start)"
      ],
      "metadata": {
        "id": "AfQ_yEJJj2Pz"
      }
    },
    {
      "cell_type": "code",
      "source": [
        "#@title\n",
        "from random import random, randint\n",
        "from numpy.random import normal, binomial\n",
        "from numpy import std\n",
        "import math\n",
        "import sys\n",
        "\n",
        "# TODO allow user to specify dependability of friend & adjust accordingly\n",
        "class Person:\n",
        "    def __init__(self, name, resolution):\n",
        "        self.name = name\n",
        "        self.resolution = resolution\n",
        "\n",
        "        #Populate past resolution/success data randomly\n",
        "        self.past_resolutions = randint(1, 20)\n",
        "        self.successes = randint(1, self.past_resolutions)\n",
        "        self.success_rate = round(self.successes/self.past_resolutions, 2)\n",
        "        self.scale = 1/self.past_resolutions\n",
        "        \n",
        "        self.return_pct = self.get_return_pct()\n",
        "\n",
        "    # Calculate a return percentage based on rough likelihood\n",
        "    def get_return_pct(self):\n",
        "        predictions = [normal(self.success_rate, self.scale) for _ in range(100)]\n",
        "        initial_return_pct = 1 - sum(predictions) / len(predictions)\n",
        "        return_pct = initial_return_pct * randint(1, 4)\n",
        "        if return_pct < .1 : \n",
        "            return_pct = randint(1, 12)/100\n",
        "        return round(return_pct, 2)\n",
        "\n",
        "    # Boolean returns whether or not they succeed in keeping their resolution    \n",
        "    def is_success(self):\n",
        "        randomness = 3 # Best on a scale of 1 to 5\n",
        "        result = round(normal(self.success_rate, randomness * self.scale), 2)\n",
        "        return 0.5 < result\n",
        "\n",
        "\n",
        "def display_friend_info():\n",
        "    print('\\nFRIEND   : PAST RESOLUTIONS : % SUCCESS : RETURN % : 2022 RESOLUTION')\n",
        "    for name in friends.keys():\n",
        "        print(f'{name:<8} : {friends[name].past_resolutions:^16} : ', end='')\n",
        "        print(f'  {int(friends[name].success_rate*100):>3}%    : ', end='')\n",
        "        print(f'  {int(friends[name].return_pct*100):>3}%   : ', end='')\n",
        "        print(f'{friends[name].resolution}')\n",
        "\n",
        "\n",
        "def create_friend_dictionary():\n",
        "    choice = input('Use default friend list or create your own? (d/o) ')\n",
        "    use_default = (choice.lower()[0] == 'd' or choice.lower()[0] == 'u')\n",
        "\n",
        "    resolutions = {}\n",
        "    if not use_default:\n",
        "        while True:\n",
        "            name = input(\"Friend's name? \")\n",
        "            resolution = input(\"Friend's resolution? \")\n",
        "            resolutions[name.lower().capitalize()] = resolution\n",
        "            if (input('Add another? (y/n) ').lower()[0] == 'n'): break\n",
        "    else:\n",
        "        # Dictionary of friends and their resolutions\n",
        "        resolutions = {'Debbie':'Collect 18 sticks',\n",
        "                  'Shruti':'Make an origami sloth',\n",
        "                  'Theo':'Free a giraffe',\n",
        "                  'Tish':'Change a lightbulb',\n",
        "                  'Conner':'Build a blanket fort',\n",
        "                  'Ana':'Find dark matter',\n",
        "                  'Jose':'Research contagious yawning'\n",
        "                  }\n",
        "\n",
        "    friends = {name:Person(name, res) for name, res in resolutions.items()}\n",
        "    return friends\n",
        "    \n",
        "def betting_rounds (num_rounds, num_candies, history):    \n",
        "    for _ in range(num_rounds):\n",
        "        display_friend_info()\n",
        "        print(f'\\nYou have {num_candies} candies.')\n",
        "\n",
        "        # User inputs who they want to bet on and how much\n",
        "        while True:\n",
        "            name = input('\\nWho do you want to bet on? (q to quit)')\n",
        "            if name == 'q': break\n",
        "            name = name.lower().capitalize()\n",
        "            if name in friends: break\n",
        "            print(f\"{name} doesn't have a resolution.\")\n",
        "\n",
        "        if name == 'q': return num_candies\n",
        "\n",
        "        while True:\n",
        "            try: bet = int(input('How many candies do you want to bet? '))\n",
        "            except: 'Not a valid amount'; continue\n",
        "            if bet <= num_candies: break\n",
        "            print(f\"You don't have {bet} candies\")        \n",
        "\n",
        "        #Display possible gain/loss amounts\n",
        "        gain = int(friends[name].return_pct*bet)\n",
        "        print(f'If you win you will gain an extra {gain} candies.')\n",
        "        print(f'If you lose you will lose the {bet} candies.')\n",
        "\n",
        "        proceed = input('Do you want to proceed? (y/n)').lower()\n",
        "        if (proceed == 'n'): continue\n",
        "\n",
        "        # Get results and adjust balance accordingly\n",
        "        is_success = friends[name].is_success()\n",
        "        print(f'\\nYou win {gain} candies!' if is_success else '\\nYou lose.')\n",
        "        if is_success :\n",
        "            num_candies += gain\n",
        "            history.append(gain)\n",
        "        else:\n",
        "            num_candies -= bet\n",
        "            history.append(-1 * bet)\n",
        "\n",
        "        # Exit the system when user is out of money\n",
        "        if (num_candies <= 0):\n",
        "            print('All done. Thanks for playing')\n",
        "            break\n",
        "        if (num_candies >= 1000):\n",
        "            print('The dealer is out of candy. Thanks for playing!')\n",
        "            break\n",
        "        \n",
        "    return num_candies\n",
        "\n",
        "num_candies = 100\n",
        "num_rounds = 100\n",
        "friends = create_friend_dictionary()\n",
        "history = []\n",
        "num_candies = betting_rounds(num_rounds, num_candies, history)\n",
        "print('Your play history is:')\n",
        "print(history)\n",
        "print(f'You have {num_candies} candies.')\n",
        "print('Enjoy your new year!')"
      ],
      "metadata": {
        "id": "2xTLL9yHFSlA",
        "cellView": "form"
      },
      "execution_count": null,
      "outputs": []
    },
    {
      "cell_type": "code",
      "source": [
        ""
      ],
      "metadata": {
        "id": "zhzpfaeAFSVV"
      },
      "execution_count": null,
      "outputs": []
    }
  ]
}